{
 "cells": [
  {
   "cell_type": "markdown",
   "metadata": {},
   "source": [
    "# Twitter Sentiment Analysis"
   ]
  },
  {
   "cell_type": "markdown",
   "metadata": {},
   "source": [
    "In this notebook, my aim is to get most recent bunch of tweets from twitter and clean strings, afterwards I did sentiment analysis on each tweet one by one and assign them some scores to decide positivity/negativity of it. \n",
    "\n",
    "The data below scrabbed at 6th of July in 2021 and top 100 tweets were filtered with only contains BTC hash to give a short example. \n",
    "\n",
    "Note : It is required to sign up with your own credientials as developer account to be able to wrap data through tweepy package. That is why I imported my credientials as a package called 'TwitterKeys' so I can use them to receive data through API.\n"
   ]
  },
  {
   "cell_type": "code",
   "execution_count": 1,
   "metadata": {
    "id": "Rs-E9M-FFBum"
   },
   "outputs": [
    {
     "name": "stderr",
     "output_type": "stream",
     "text": [
      "[nltk_data] Downloading package stopwords to /home/burcin/nltk_data...\n",
      "[nltk_data]   Package stopwords is already up-to-date!\n"
     ]
    },
    {
     "data": {
      "text/plain": [
       "True"
      ]
     },
     "execution_count": 1,
     "metadata": {},
     "output_type": "execute_result"
    }
   ],
   "source": [
    "import tweepy, json, TwitterKeys,csv,re, time                  # Python wrapper around Twitter API\n",
    "import pandas as pd\n",
    "import numpy as np\n",
    "from datetime import date\n",
    "from datetime import datetime\n",
    "import matplotlib.pyplot as plt\n",
    "from textblob import TextBlob as tb\n",
    "from vaderSentiment.vaderSentiment import SentimentIntensityAnalyzer\n",
    "from transformers import pipeline\n",
    "from nltk.tokenize import regexp_tokenize, TweetTokenizer,word_tokenize\n",
    "from nltk.corpus import stopwords\n",
    "import nltk\n",
    "nltk.download('stopwords')"
   ]
  },
  {
   "cell_type": "code",
   "execution_count": 2,
   "metadata": {},
   "outputs": [
    {
     "name": "stdout",
     "output_type": "stream",
     "text": [
      "Authentication OK\n"
     ]
    }
   ],
   "source": [
    "# Authenticate to Twitter\n",
    "auth = tweepy.OAuthHandler(TwitterKeys.API_TOKEN, TwitterKeys.API_KEY)\n",
    "\n",
    "auth.set_access_token(TwitterKeys.ACCESS_TOKEN, TwitterKeys.ACCESS_KEY)\n",
    "\n",
    "api = tweepy.API(auth)\n",
    "\n",
    "try:\n",
    "    api.verify_credentials()\n",
    "    print(\"Authentication OK\")\n",
    "except:\n",
    "    print(\"Error during authentication\")"
   ]
  },
  {
   "cell_type": "markdown",
   "metadata": {},
   "source": [
    "After authentication, I wrapped data through twitter api, it is optional to set a beginning date to get past tweets, however there are some drawbacks of that option. Firstly you cannot set a time together with date and more importantly, it is allowed to receive tweets at most 7 days before current date. \n",
    "\n",
    "Then I saved tweets as a data frame to process.."
   ]
  },
  {
   "cell_type": "code",
   "execution_count": 3,
   "metadata": {
    "id": "-ynTYkc7CGat"
   },
   "outputs": [],
   "source": [
    "search_words = \"#BTC\"\n"
   ]
  },
  {
   "cell_type": "code",
   "execution_count": 4,
   "metadata": {
    "colab": {
     "base_uri": "https://localhost:8080/",
     "height": 35
    },
    "id": "1uwrKWI4Czr5",
    "outputId": "f87b91a0-433f-4f64-801d-c57b28057423"
   },
   "outputs": [
    {
     "data": {
      "text/plain": [
       "'#BTC -filter:retweets'"
      ]
     },
     "execution_count": 4,
     "metadata": {},
     "output_type": "execute_result"
    }
   ],
   "source": [
    "new_search = search_words + \" -filter:retweets\" # Filtered retweets\n",
    "new_search"
   ]
  },
  {
   "cell_type": "code",
   "execution_count": 5,
   "metadata": {
    "colab": {
     "base_uri": "https://localhost:8080/",
     "height": 824
    },
    "id": "Wro4Xq3fC3hC",
    "outputId": "128ff4b4-09d7-44f5-a777-75b3d17b545f"
   },
   "outputs": [],
   "source": [
    "tweets = tweepy.Cursor(api.search,\n",
    "                       q=new_search,\n",
    "                       lang=\"en\"\n",
    "                       #since=date_since\n",
    "                      ).items(100)\n",
    "\n",
    "df = pd.DataFrame(data = [[tweet.user.screen_name, tweet.user.location,tweet.created_at,tweet.text] for tweet in tweets],columns=['user', \"location\",\"tweet_date\",\"tweet_text\"])"
   ]
  },
  {
   "cell_type": "code",
   "execution_count": 6,
   "metadata": {},
   "outputs": [
    {
     "data": {
      "text/plain": [
       "(100, 4)"
      ]
     },
     "execution_count": 6,
     "metadata": {},
     "output_type": "execute_result"
    }
   ],
   "source": [
    "df.shape"
   ]
  },
  {
   "cell_type": "code",
   "execution_count": 7,
   "metadata": {},
   "outputs": [
    {
     "data": {
      "text/html": [
       "<div>\n",
       "<style scoped>\n",
       "    .dataframe tbody tr th:only-of-type {\n",
       "        vertical-align: middle;\n",
       "    }\n",
       "\n",
       "    .dataframe tbody tr th {\n",
       "        vertical-align: top;\n",
       "    }\n",
       "\n",
       "    .dataframe thead th {\n",
       "        text-align: right;\n",
       "    }\n",
       "</style>\n",
       "<table border=\"1\" class=\"dataframe\">\n",
       "  <thead>\n",
       "    <tr style=\"text-align: right;\">\n",
       "      <th></th>\n",
       "      <th>user</th>\n",
       "      <th>location</th>\n",
       "      <th>tweet_date</th>\n",
       "      <th>tweet_text</th>\n",
       "    </tr>\n",
       "  </thead>\n",
       "  <tbody>\n",
       "    <tr>\n",
       "      <th>0</th>\n",
       "      <td>VM101087</td>\n",
       "      <td></td>\n",
       "      <td>2021-07-06 12:07:23</td>\n",
       "      <td>@JesterDefi_ @BinanceChain Good project &amp;amp; ...</td>\n",
       "    </tr>\n",
       "    <tr>\n",
       "      <th>1</th>\n",
       "      <td>Edward686868</td>\n",
       "      <td>Singapore</td>\n",
       "      <td>2021-07-06 12:07:22</td>\n",
       "      <td>@PIantainChips I’ll stick with #btc thanks</td>\n",
       "    </tr>\n",
       "    <tr>\n",
       "      <th>2</th>\n",
       "      <td>magnapushpa</td>\n",
       "      <td></td>\n",
       "      <td>2021-07-06 12:07:12</td>\n",
       "      <td>@keplerswap Thanks for giving us such a great ...</td>\n",
       "    </tr>\n",
       "    <tr>\n",
       "      <th>3</th>\n",
       "      <td>JDSecord</td>\n",
       "      <td>Phoenix, AZ</td>\n",
       "      <td>2021-07-06 12:06:57</td>\n",
       "      <td>@garyblack00 Let’s keep in mind he passed on b...</td>\n",
       "    </tr>\n",
       "    <tr>\n",
       "      <th>4</th>\n",
       "      <td>coinok</td>\n",
       "      <td></td>\n",
       "      <td>2021-07-06 12:06:49</td>\n",
       "      <td>Buy Crypto With Your Credit Card / Fast Crypto...</td>\n",
       "    </tr>\n",
       "  </tbody>\n",
       "</table>\n",
       "</div>"
      ],
      "text/plain": [
       "           user     location          tweet_date  \\\n",
       "0      VM101087              2021-07-06 12:07:23   \n",
       "1  Edward686868    Singapore 2021-07-06 12:07:22   \n",
       "2   magnapushpa              2021-07-06 12:07:12   \n",
       "3      JDSecord  Phoenix, AZ 2021-07-06 12:06:57   \n",
       "4        coinok              2021-07-06 12:06:49   \n",
       "\n",
       "                                          tweet_text  \n",
       "0  @JesterDefi_ @BinanceChain Good project &amp; ...  \n",
       "1         @PIantainChips I’ll stick with #btc thanks  \n",
       "2  @keplerswap Thanks for giving us such a great ...  \n",
       "3  @garyblack00 Let’s keep in mind he passed on b...  \n",
       "4  Buy Crypto With Your Credit Card / Fast Crypto...  "
      ]
     },
     "execution_count": 7,
     "metadata": {},
     "output_type": "execute_result"
    }
   ],
   "source": [
    "df.head()"
   ]
  },
  {
   "cell_type": "code",
   "execution_count": 8,
   "metadata": {},
   "outputs": [
    {
     "name": "stdout",
     "output_type": "stream",
     "text": [
      "0                              [https://t.co/otdDFpo2Oq]\n",
      "1                                                     []\n",
      "2                              [https://t.co/Yvct3I8KHh]\n",
      "3                              [https://t.co/mywBEaSbeT]\n",
      "4     [https://t.co/GwaCvQyQbc, https://t.co/Sb4Pw63Lvv]\n",
      "                             ...                        \n",
      "95                                                    []\n",
      "96                             [https://t.co/adHnhWz5VA]\n",
      "97                             [https://t.co/LfPri2wZVw]\n",
      "98                             [https://t.co/gheS1PMPPl]\n",
      "99                             [https://t.co/cySyN8HqAg]\n",
      "Name: tweet_text, Length: 100, dtype: object\n"
     ]
    }
   ],
   "source": [
    "pd.options.display.max_colwidth = 2000\n",
    "# Wrote a pattern that matches with all links (urls) \n",
    "pattern = r'http\\S+'\n",
    "\n",
    "# Use the pattern on the last tweet in the tweets list\n",
    "print(df.tweet_text.apply(lambda x:  regexp_tokenize(x, pattern=pattern))) \n",
    "#print(df.tweet_text.apply(lambda x: re.search(\"(?P<url>https?://[^\\s]+)\", x).group(\"url\")))\n"
   ]
  },
  {
   "cell_type": "markdown",
   "metadata": {},
   "source": [
    "Now I am going to drop urls from tweets as well as dropped tweets with same contents and generated a dictionary to set tweet texts as keys..\n",
    "\n",
    "After that, I dropped english stopwords, hashtags and mentions too for more clean texts. "
   ]
  },
  {
   "cell_type": "code",
   "execution_count": 9,
   "metadata": {},
   "outputs": [],
   "source": [
    "tknzr = TweetTokenizer()\n",
    "tweet_dict = {}\n",
    "\n",
    "\n",
    "\n",
    "\n",
    "for i in range(0,len(df)):\n",
    "    tweettext = tknzr.tokenize(re.sub(r'http\\S+', \"\",df.tweet_text[i])) # dropped urls \n",
    "    tweettext = [ t for t in tweettext if t not in stopwords.words('english') and len(t)> 1 and t[0] != '#' and t[0] != '@'] # remove hastags, mentions and stopwords\n",
    "    if tweet_dict.get(str(tweettext)) != 1:\n",
    "        tweet_dict[str(tweettext)]=1\n",
    "    #tweets = [word_tokenize(re.sub(r\"\"\"[\"?,$!:#@/[///\\]\\)\\.?\\+\\-]|'(?!(?<! ')[ts])\"\"\", \"\",key)) for key in tweet_dict.keys()]\n",
    "    tweets = [key for key in tweet_dict.keys() if [k.isalpha() for k in key]]\n",
    "    \n"
   ]
  },
  {
   "cell_type": "code",
   "execution_count": 10,
   "metadata": {},
   "outputs": [
    {
     "data": {
      "text/plain": [
       "[\"['Good', 'project', 'Success', 'For', 'Developer', 'Join', 'guys']\",\n",
       " \"['stick', 'thanks']\",\n",
       " \"['Thanks', 'giving', 'us', 'great', 'opportunity', 'supporting', 'always', 'development', 'team', 'moon']\",\n",
       " \"['Let', 'keep', 'mind', 'passed', 'APPL', 'AMZN', 'getting', 'APPL', 'within', 'last', 'couple', 'year']\",\n",
       " \"['Buy', 'Crypto', 'With', 'Your', 'Credit', 'Card', 'Fast', 'Crypto', 'Exchange']\",\n",
       " \"['hope', 'win', 'Thanks', 'opportunity', 'bc1qrpzev8y32lmp0z3q68qy5anq77efjfrmudsdpn']\",\n",
       " \"['At', 'time', '...', 'really', 'want', 'lose', 'support', '...', 'pretty', 'nail', 'biting', 'times']\",\n",
       " \"['need', 'anyone', 'else', 'FUCK', 'THE', 'SYSTEM', '...', 'NO', 'ONE', 'CAN', 'STOP']\",\n",
       " \"['NO', 'matter', 'terrible', 'life', 'say', 'load', 'LOVE', 'MY', 'LIFE', 'whisper', 'also', 'love']\",\n",
       " \"['shooting', 'Use', 'find', 'COINS', 'moving', 'Track', 'crypto', 'HIGH', 'buyers']\",\n",
       " \"['INARI', 'FIRST', 'EVER', 'AUTOMATED', 'BUYBACK', 'CONTRACT', 'BUYBACK', 'WALLET', 'CONTAINS', '70', 'ETH', 'DEXT']\",\n",
       " \"['Derivs', 'Sheet', 'Tweet', 'every', '15', 'min', 'CME', 'Delayed', '10', 'min', 'GS', 'Delayed', '15', 'min', 'OI', 'SHARES', 'OUT']\",\n",
       " \"['TARGET', 'PRICE', 'REACHED', 'SELL', 'SNXBTC', 'TARGET', 'PRICE', '0.000370', 'TARGET', 'PRICE', 'REACHED', '59', 'SNX', 'BTC']\",\n",
       " \"['High', 'reputation', 'strong', 'real', 'name', 'hope', 'friends', 'participate', 'understand', 'Bsc', 'Address']\",\n",
       " \"['So', 'excited']\",\n",
       " '[\"can\\'t\", \\'sell\\', \\'buy\\', \"can\\'t\", \\'sell\\', \\'buy\\', \\'But\\', \\'use\\', \\'buy\\']',\n",
       " \"['Huge', 'Buy', 'Signal', 'Weekly', 'Chart']\",\n",
       " \"['This', 'great', 'excellent', 'project', 'also', 'reward', 'great', 'Thanks', 'shared', 'wonderful']\",\n",
       " \"['This', 'project', 'looks', 'interesting', 'BSC', '0x68F28108bDb2F196e9BF878fA935AA']\",\n",
       " \"['This', 'Project', 'Is', 'Very', 'Good', 'And', 'This', 'Projector', 'Has', 'Lot', 'Of', 'Attractions', 'So', 'Hopefully', 'The', 'Project', 'Will', 'Be', 'Better', 'In']\",\n",
       " \"['2021070', 'BTC', '1day', 'Prediction', 'Will', 'BTC', 'higher', '34,994', '10:00', 'BST', '18:00', 'JST', 'tomorrow', 'July', 'Predicti']\",\n",
       " '[\\'But\\', \"can\\'t\", \\'really\\', \\'dump\\', \\'guys\\', \\'You\\', \\'combine\\', \\'please\\', \\'You\\', \\'idiots\\', \\'okay\\', \\'please\\', \\'accept\\', \\'You\\', \\'maybe\\', \\'Pl\\']',\n",
       " \"['Great', 'project', 'Join']\",\n",
       " \"['nice', 'project', '0xc15b7aa183bce7bfa4a6213cdd40ed469e27bf97']\",\n",
       " \"['Is', 'Bitcoin', 'bull', 'run', 'disbelief', 'market', 'cycle', 'phase']\",\n",
       " \"['Cardano', 'expands', 'ecosystem', 'Nexo', 'partnership']\",\n",
       " '[\\'Oh\\', \\'yes\\', \"It\\'s\", \\'beautiful\\']',\n",
       " \"['Charles', 'Hoskinsons', 'pleased', 'growth', 'Cardano']\",\n",
       " \"['All', 'charters', 'saying', 'correction', 'b4', 'going', 'higher', 'see', '1,2', '3,4', '5th', 'wave']\",\n",
       " \"['Good', 'project', 'looking', 'forward', 'growth', 'success', 'project', 'thank', 'oppo']\",\n",
       " \"['Guess', 'score', 'Italy', 'vs', 'Spain']\",\n",
       " \"['People', 'waking', 'possibility', 'going', '100k']\",\n",
       " \"['Got', 'Yet', '50K', '-->', '400K', 'days', 'Beautiful', 'dip', 'around']\",\n",
       " \"['Top', 'MACD', 'Crossovers', 'With', 'High', 'Vol', 'BINANCE', '4h', 'crossover', 'BINANCE', '4h', 'ha']\",\n",
       " \"['Win', 'invest', 'currency', 'like']\",\n",
       " \"['SCAN', 'RESULTS', '4h', 'PAIR', 'Binance', 'top', 'bullish', 'strength', 'BAL', 'ALPHA', 'AAVE', 'INJ', 'OCEAN', 'Binan']\",\n",
       " \"['SCAN', 'RESULTS', '4h', 'KUCOIN', 'KuCoin', 'top', 'bullish', 'trend', 'pair', 'ZRX', 'BTT', 'OMG', 'OCEAN', 'RIF', 'KuC']\",\n",
       " \"['It', 'signal', 'dump', 'short', 'Prove', 'wrong']\",\n",
       " \"['You', 'go', 'away', 'corona', 'viruse', 'generator', 'country', 'You', 'wrost', 'country', 'ever', 'stay', 'de']\",\n",
       " \"['USDCAD', 'Target', 'hit', '150', 'Pips', 'Profit', 'The', 'link', 'Crypto', 'Forex', 'Signals', 'Channel', 'present', 'bio', 'Go', 'Che']\",\n",
       " \"['The', 'current', 'price', 'bitcoin', '34,212', '00', 'It', 'increased', '1.955', 'last', '24', 'hours']\",\n",
       " \"['Oh', 'nice']\",\n",
       " '[\"It\\'s\", \\'hard\\']',\n",
       " \"['Idk', '...', 'But', 'feel', 'exact', 'Opposite', 'majority', 'thinks', 'Majority', 'bearish', 'So', '...']\",\n",
       " \"['Glad', 'participate', 'project', 'Hopefully', 'becomes', 'success']\",\n",
       " '[\"I\\'m\", \\'infected\\', \\'crypto\\', \\'buying\\', \\'dip\\', \\'FULL\\', \\'SEND\\']',\n",
       " \"['trade', 'price', '24469', 'time', '07/06', '21', '13:03', '09']\",\n",
       " \"['Ether', 'already', 'flippening', 'Bitcoin', 'says', 'Celsius', 'CEO']\",\n",
       " \"['Very', 'good', 'project.Looking', 'sustainable', 'Hope', 'go', 'long', 'way', 'future', 'Really', 'happy', 'part']\",\n",
       " \"['always', 'strongest', 'comm']\",\n",
       " \"['Official', 'Trading', 'Get', 'Ready', 'Doing', 'Hybrid', 'offers', 'Token', 'Club']\",\n",
       " \"['Team', 'spirit', 'works', 'hard', 'good', 'cooperation', 'make', 'project', 'great']\",\n",
       " \"['No', 'matter', 'live', 'always', 'way', 'move', 'funds', 'like', 'early', 'days', 'bank']\",\n",
       " \"['hourly', 'net', 'stats', '11am', '0pm', 'UTC', 'blocks', '291', 'avgDiff', '6.55', 'PH', 'hashRate', '557.21', 'TH', 'avgSize', '52.39', 'KB', 'txns', '66899']\",\n",
       " \"['participated', 'following', 'guidelines', 'rules', 'airdrop', 'Thnks', 'VXT', 'team', 'best', 'lu']\",\n",
       " \"['For', '1st', 'time', 'human', 'history', 'guaranteed', 'data-and', 'thus', 'history', 'humanity-corresponds']\",\n",
       " \"['Sweeeeet']\",\n",
       " \"['How', 'many', 'wallets', 'sent', '200', 'US', 'companies', 'fleeced', '70M', 'Why', 'would']\",\n",
       " \"['Fast', 'internet', 'connection', 'securely', 'share', 'Honey', 'earn', 'Free', 'link']\",\n",
       " \"['Most', 'big', 'banks', 'charged', 'fraud', 'agreed', 'settle', 'They', 'fraud', 'Who', 'needs', 'fraud', 'institutions', 'th']\",\n",
       " \"['The', 'BTC', 'price', '33933.06', 'right', 'Compared', 'last', 'tweet', 'price', 'dropped', '271.79', '-0.79']\",\n",
       " \"['Gonna', 'dump', '0.05']\",\n",
       " \"['When', 'people', 'say', 'Warren', 'Buffett', 'understand', 'disruptive', 'tech', 'argument']\",\n",
       " \"['Well', 'bit', 'complex', 'found', '..', 'like', 'currently', 'Expecting', 'BTC', 'pump', '39-40', 'dominance']\",\n",
       " \"['Italy', '1Spain']\",\n",
       " \"['This', 'project', 'looks', 'interesting', 'interested', 'support', 'project', 'successful', 'accord']\",\n",
       " \"['Hold', 'BNB', 'We', 'announce', 'coin', 'pumps', 'telegram', 'follow', 'us', 'link', 'desc']\",\n",
       " \"['exes', 'face', 'lawsuit', 'All', 'kind', 'things', 'happening', 'help', 'massadoption', 'considerin']\",\n",
       " \"['This', 'project', 'looks', 'interesting', 'interested', 'support', 'project', 'succe']\",\n",
       " \"['Any', 'spare', 'happy', 'hold', 'em']\",\n",
       " \"['Part', '1/2', 'BTCMarkets', '44782', '683', '3042', '182', '0.88', 'Coinspot', '44670', '3059']\",\n",
       " \"['Follow', 'Introduce', 'beautiful', 'voices']\",\n",
       " \"['Cryptocurrencies', 'painting', 'dolphins', 'love']\",\n",
       " \"['Short', 'BTC', 'Frame', '30m', 'Price', '33871.7']\",\n",
       " \"['Your', 'hourly', 'update', 'Hourly', 'closing', '33976', 'BTCUSD', 'Hourly', 'price', 'change', '0.43', 'hr', 'Vol', 'tren']\",\n",
       " \"['Ready', 'kick', 'asses', 'BET', 'ON', 'Wed', '07', 'Jul', '08:00', 'GMT', 'Place', 'bet']\",\n",
       " \"['Bluesky', 'Digital', 'Assets', 'Corp', 'Appoints', 'Mr', 'Jakson', 'Inwentash', 'Director', 'Corporation', 'Full', 'Story']\",\n",
       " \"['Gosh', 'trust', 'bank', 'Do', 'Yes', 'Yes', 'Yes']\",\n",
       " \"['hope', 'project', 'become', 'special', 'one', 'hope', 'get']\",\n",
       " \"['Available', 'buy', 'Copy', 'Address']\",\n",
       " '[\"Bitcoin\\'s\", \\'reliable\\', \\'predictor\\', \\'says\\', \\'might\\', \\'rails\\', \\'tens\\', \\'thousands\\', \\'The\\', \\'divergence\\', \\'might\\', \\'mean\\', \\'Bi\\']',\n",
       " \"['Live', 'Crypto', 'Prices', '24h', 'change', 'BTC', '34,251', '00', '+1.96', 'ETH', '2,306', '78', '+3.96', 'XLM', '0.2627', '+3.06', 'BTT', '0.002']\",\n",
       " \"['Ready', 'request', 'made', 'VXT', 'Like', 'Retweet', 'Followed', 'Tag', 'My', 'friends']\",\n",
       " \"['YOUR', 'PRIVATE', 'TRADING', 'ASSISTANT', 'look', 'daily', 'charts', 'BTC', 'According', 'daily', 'chart', 'BTC', 'USD', 'bou']\",\n",
       " \"['YOUR', 'PRIVATE', 'TRADING', 'ASSISTANT', 'look', 'hourly', 'charts', 'BTC', 'As', 'look', 'one-hour', 'chart', 'steep']\",\n",
       " \"['BTC', 'working', 'way', 'top', '10', 'mentioned', '4chan', 'last', '24', 'hours', 'Via']\",\n",
       " \"['New', 'Post', 'Burden', 'proof', 'still', 'rests', 'BTC', 'bulls']\",\n",
       " \"['Italy', 'Spain']\",\n",
       " \"['0xc4d4']\",\n",
       " \"['15:00', 'Bitcoin', '34.091', '38']\",\n",
       " \"['Bitcoin', 'BTC', 'Price', '34,130', '25', 'Change', '1h', '+0.6217975', 'Market', 'cap', '639,913', '821,115', '45', 'Ranking']\",\n",
       " \"['btc', 'Will', 'sharing', 'prediction', 'within', 'next', '24hours']\",\n",
       " \"['Thank', 'offering', 'discount']\",\n",
       " \"['Prices', 'update', 'USD', 'Last', 'hour', 'BTC', '34086', '+0.46', 'ETH', '2295.12', '+1.17', 'BNB', '311.54']\",\n",
       " \"['Prices', 'update', 'EUR', 'Last', 'hour', 'BTC', '28811.5', '+0.48', 'ETH', '1938.05', '+1.02', 'BNB', '263.3']\",\n",
       " \"['Last', 'hour', 'minute', 'based', 'core', '0.14', '0.14', '0.18', '0.17', '0.1']\"]"
      ]
     },
     "execution_count": 10,
     "metadata": {},
     "output_type": "execute_result"
    }
   ],
   "source": [
    "tweets"
   ]
  },
  {
   "cell_type": "code",
   "execution_count": 11,
   "metadata": {},
   "outputs": [
    {
     "data": {
      "text/plain": [
       "'@JesterDefi_ @BinanceChain Good project &amp; Success For Developer \\nJoin guys\\n@Akash87869857\\n@AnkushS28962162… https://t.co/otdDFpo2Oq'"
      ]
     },
     "execution_count": 11,
     "metadata": {},
     "output_type": "execute_result"
    }
   ],
   "source": [
    "df.tweet_text[0] # raw version"
   ]
  },
  {
   "cell_type": "code",
   "execution_count": 12,
   "metadata": {},
   "outputs": [
    {
     "data": {
      "text/plain": [
       "\"['Good', 'project', 'Success', 'For', 'Developer', 'Join', 'guys']\""
      ]
     },
     "execution_count": 12,
     "metadata": {},
     "output_type": "execute_result"
    }
   ],
   "source": [
    "tweets[0] # cleaned version"
   ]
  },
  {
   "cell_type": "code",
   "execution_count": 13,
   "metadata": {},
   "outputs": [],
   "source": [
    "# In this cell I transfered ready to use trained BERT model provided from Hugging Face \n",
    "\n",
    "classifier = pipeline(\"sentiment-analysis\")\n"
   ]
  },
  {
   "cell_type": "code",
   "execution_count": 14,
   "metadata": {},
   "outputs": [
    {
     "data": {
      "text/plain": [
       "['POSITIVE']"
      ]
     },
     "execution_count": 14,
     "metadata": {},
     "output_type": "execute_result"
    }
   ],
   "source": [
    "[item[\"label\"] for item in classifier(tweets[0])]"
   ]
  },
  {
   "cell_type": "code",
   "execution_count": 15,
   "metadata": {},
   "outputs": [
    {
     "data": {
      "text/plain": [
       "{'neg': 0.0, 'neu': 0.312, 'pos': 0.688, 'compound': 0.8316}"
      ]
     },
     "execution_count": 15,
     "metadata": {},
     "output_type": "execute_result"
    }
   ],
   "source": [
    "# This fuction provided from vadersentiment library to score tweets \n",
    "analyzer = SentimentIntensityAnalyzer()\n",
    "analyzer.polarity_scores(tweets[0])"
   ]
  },
  {
   "cell_type": "markdown",
   "metadata": {},
   "source": [
    "Last but not least I created a data frame which includes scores provided from textblob, BERT and vadersentiment libraries. \n",
    "\n",
    "With this clean data frame it can be evaluated by comparing results. "
   ]
  },
  {
   "cell_type": "code",
   "execution_count": 16,
   "metadata": {},
   "outputs": [],
   "source": [
    "# values from textblob\n",
    "pol = []\n",
    "sub = []\n",
    "# values from transformers\n",
    "label = []\n",
    "score = []\n",
    "# values from vader sentiment\n",
    "neg_val = []\n",
    "pos_val = []\n",
    "neu_val = []\n",
    "comp_val = []\n",
    "\n",
    "for j in tweets:\n",
    "    tx = tb(j)\n",
    "    pol.append(tx.sentiment.polarity)\n",
    "    sub.append(tx.sentiment.subjectivity)\n",
    "    label.append([item[\"label\"] for item in classifier(j)])\n",
    "    score.append([item[\"score\"] for item in classifier(j)] )  \n",
    "    \n",
    "    neg_val.append(analyzer.polarity_scores(j)['neg'])\n",
    "    pos_val.append(analyzer.polarity_scores(j)['pos'])\n",
    "    neu_val.append(analyzer.polarity_scores(j)['neu'])\n",
    "    comp_val.append(analyzer.polarity_scores(j)['compound'])\n"
   ]
  },
  {
   "cell_type": "code",
   "execution_count": 17,
   "metadata": {},
   "outputs": [],
   "source": [
    "df_pols = pd.DataFrame({\"polarity\":pol,\"subjectivity\":sub, 'label' : label, 'score': score, 'neg_val': neg_val, 'pos_val': pos_val, 'neu_val' : neu_val,'comp_val': comp_val, 'text':tweets})\n"
   ]
  },
  {
   "cell_type": "code",
   "execution_count": 18,
   "metadata": {},
   "outputs": [
    {
     "data": {
      "text/html": [
       "<div>\n",
       "<style scoped>\n",
       "    .dataframe tbody tr th:only-of-type {\n",
       "        vertical-align: middle;\n",
       "    }\n",
       "\n",
       "    .dataframe tbody tr th {\n",
       "        vertical-align: top;\n",
       "    }\n",
       "\n",
       "    .dataframe thead th {\n",
       "        text-align: right;\n",
       "    }\n",
       "</style>\n",
       "<table border=\"1\" class=\"dataframe\">\n",
       "  <thead>\n",
       "    <tr style=\"text-align: right;\">\n",
       "      <th></th>\n",
       "      <th>polarity</th>\n",
       "      <th>subjectivity</th>\n",
       "      <th>label</th>\n",
       "      <th>score</th>\n",
       "      <th>neg_val</th>\n",
       "      <th>pos_val</th>\n",
       "      <th>neu_val</th>\n",
       "      <th>comp_val</th>\n",
       "      <th>text</th>\n",
       "    </tr>\n",
       "  </thead>\n",
       "  <tbody>\n",
       "    <tr>\n",
       "      <th>0</th>\n",
       "      <td>0.500000</td>\n",
       "      <td>0.300000</td>\n",
       "      <td>[POSITIVE]</td>\n",
       "      <td>[0.9996802806854248]</td>\n",
       "      <td>0.0</td>\n",
       "      <td>0.688</td>\n",
       "      <td>0.312</td>\n",
       "      <td>0.8316</td>\n",
       "      <td>['Good', 'project', 'Success', 'For', 'Developer', 'Join', 'guys']</td>\n",
       "    </tr>\n",
       "    <tr>\n",
       "      <th>1</th>\n",
       "      <td>0.200000</td>\n",
       "      <td>0.200000</td>\n",
       "      <td>[POSITIVE]</td>\n",
       "      <td>[0.9982790946960449]</td>\n",
       "      <td>0.0</td>\n",
       "      <td>0.744</td>\n",
       "      <td>0.256</td>\n",
       "      <td>0.4404</td>\n",
       "      <td>['stick', 'thanks']</td>\n",
       "    </tr>\n",
       "    <tr>\n",
       "      <th>2</th>\n",
       "      <td>0.416667</td>\n",
       "      <td>0.400000</td>\n",
       "      <td>[POSITIVE]</td>\n",
       "      <td>[0.9997115135192871]</td>\n",
       "      <td>0.0</td>\n",
       "      <td>0.751</td>\n",
       "      <td>0.249</td>\n",
       "      <td>0.9337</td>\n",
       "      <td>['Thanks', 'giving', 'us', 'great', 'opportunity', 'supporting', 'always', 'development', 'team', 'moon']</td>\n",
       "    </tr>\n",
       "    <tr>\n",
       "      <th>3</th>\n",
       "      <td>0.000000</td>\n",
       "      <td>0.066667</td>\n",
       "      <td>[NEGATIVE]</td>\n",
       "      <td>[0.9957703351974487]</td>\n",
       "      <td>0.0</td>\n",
       "      <td>0.000</td>\n",
       "      <td>1.000</td>\n",
       "      <td>0.0000</td>\n",
       "      <td>['Let', 'keep', 'mind', 'passed', 'APPL', 'AMZN', 'getting', 'APPL', 'within', 'last', 'couple', 'year']</td>\n",
       "    </tr>\n",
       "    <tr>\n",
       "      <th>4</th>\n",
       "      <td>0.200000</td>\n",
       "      <td>0.600000</td>\n",
       "      <td>[NEGATIVE]</td>\n",
       "      <td>[0.758206844329834]</td>\n",
       "      <td>0.0</td>\n",
       "      <td>0.245</td>\n",
       "      <td>0.755</td>\n",
       "      <td>0.3818</td>\n",
       "      <td>['Buy', 'Crypto', 'With', 'Your', 'Credit', 'Card', 'Fast', 'Crypto', 'Exchange']</td>\n",
       "    </tr>\n",
       "    <tr>\n",
       "      <th>...</th>\n",
       "      <td>...</td>\n",
       "      <td>...</td>\n",
       "      <td>...</td>\n",
       "      <td>...</td>\n",
       "      <td>...</td>\n",
       "      <td>...</td>\n",
       "      <td>...</td>\n",
       "      <td>...</td>\n",
       "      <td>...</td>\n",
       "    </tr>\n",
       "    <tr>\n",
       "      <th>91</th>\n",
       "      <td>0.000000</td>\n",
       "      <td>0.000000</td>\n",
       "      <td>[NEGATIVE]</td>\n",
       "      <td>[0.87502521276474]</td>\n",
       "      <td>0.0</td>\n",
       "      <td>0.318</td>\n",
       "      <td>0.682</td>\n",
       "      <td>0.4215</td>\n",
       "      <td>['btc', 'Will', 'sharing', 'prediction', 'within', 'next', '24hours']</td>\n",
       "    </tr>\n",
       "    <tr>\n",
       "      <th>92</th>\n",
       "      <td>0.000000</td>\n",
       "      <td>0.000000</td>\n",
       "      <td>[POSITIVE]</td>\n",
       "      <td>[0.9996468424797058]</td>\n",
       "      <td>0.0</td>\n",
       "      <td>0.556</td>\n",
       "      <td>0.444</td>\n",
       "      <td>0.3612</td>\n",
       "      <td>['Thank', 'offering', 'discount']</td>\n",
       "    </tr>\n",
       "    <tr>\n",
       "      <th>93</th>\n",
       "      <td>0.000000</td>\n",
       "      <td>0.066667</td>\n",
       "      <td>[NEGATIVE]</td>\n",
       "      <td>[0.9850741624832153]</td>\n",
       "      <td>0.0</td>\n",
       "      <td>0.000</td>\n",
       "      <td>1.000</td>\n",
       "      <td>0.0000</td>\n",
       "      <td>['Prices', 'update', 'USD', 'Last', 'hour', 'BTC', '34086', '+0.46', 'ETH', '2295.12', '+1.17', 'BNB', '311.54']</td>\n",
       "    </tr>\n",
       "    <tr>\n",
       "      <th>94</th>\n",
       "      <td>0.000000</td>\n",
       "      <td>0.066667</td>\n",
       "      <td>[NEGATIVE]</td>\n",
       "      <td>[0.9814916253089905]</td>\n",
       "      <td>0.0</td>\n",
       "      <td>0.000</td>\n",
       "      <td>1.000</td>\n",
       "      <td>0.0000</td>\n",
       "      <td>['Prices', 'update', 'EUR', 'Last', 'hour', 'BTC', '28811.5', '+0.48', 'ETH', '1938.05', '+1.02', 'BNB', '263.3']</td>\n",
       "    </tr>\n",
       "    <tr>\n",
       "      <th>95</th>\n",
       "      <td>0.000000</td>\n",
       "      <td>0.066667</td>\n",
       "      <td>[NEGATIVE]</td>\n",
       "      <td>[0.9863728284835815]</td>\n",
       "      <td>0.0</td>\n",
       "      <td>0.000</td>\n",
       "      <td>1.000</td>\n",
       "      <td>0.0000</td>\n",
       "      <td>['Last', 'hour', 'minute', 'based', 'core', '0.14', '0.14', '0.18', '0.17', '0.1']</td>\n",
       "    </tr>\n",
       "  </tbody>\n",
       "</table>\n",
       "<p>96 rows × 9 columns</p>\n",
       "</div>"
      ],
      "text/plain": [
       "    polarity  subjectivity       label                 score  neg_val  \\\n",
       "0   0.500000      0.300000  [POSITIVE]  [0.9996802806854248]      0.0   \n",
       "1   0.200000      0.200000  [POSITIVE]  [0.9982790946960449]      0.0   \n",
       "2   0.416667      0.400000  [POSITIVE]  [0.9997115135192871]      0.0   \n",
       "3   0.000000      0.066667  [NEGATIVE]  [0.9957703351974487]      0.0   \n",
       "4   0.200000      0.600000  [NEGATIVE]   [0.758206844329834]      0.0   \n",
       "..       ...           ...         ...                   ...      ...   \n",
       "91  0.000000      0.000000  [NEGATIVE]    [0.87502521276474]      0.0   \n",
       "92  0.000000      0.000000  [POSITIVE]  [0.9996468424797058]      0.0   \n",
       "93  0.000000      0.066667  [NEGATIVE]  [0.9850741624832153]      0.0   \n",
       "94  0.000000      0.066667  [NEGATIVE]  [0.9814916253089905]      0.0   \n",
       "95  0.000000      0.066667  [NEGATIVE]  [0.9863728284835815]      0.0   \n",
       "\n",
       "    pos_val  neu_val  comp_val  \\\n",
       "0     0.688    0.312    0.8316   \n",
       "1     0.744    0.256    0.4404   \n",
       "2     0.751    0.249    0.9337   \n",
       "3     0.000    1.000    0.0000   \n",
       "4     0.245    0.755    0.3818   \n",
       "..      ...      ...       ...   \n",
       "91    0.318    0.682    0.4215   \n",
       "92    0.556    0.444    0.3612   \n",
       "93    0.000    1.000    0.0000   \n",
       "94    0.000    1.000    0.0000   \n",
       "95    0.000    1.000    0.0000   \n",
       "\n",
       "                                                                                                                 text  \n",
       "0                                                  ['Good', 'project', 'Success', 'For', 'Developer', 'Join', 'guys']  \n",
       "1                                                                                                 ['stick', 'thanks']  \n",
       "2           ['Thanks', 'giving', 'us', 'great', 'opportunity', 'supporting', 'always', 'development', 'team', 'moon']  \n",
       "3            ['Let', 'keep', 'mind', 'passed', 'APPL', 'AMZN', 'getting', 'APPL', 'within', 'last', 'couple', 'year']  \n",
       "4                                   ['Buy', 'Crypto', 'With', 'Your', 'Credit', 'Card', 'Fast', 'Crypto', 'Exchange']  \n",
       "..                                                                                                                ...  \n",
       "91                                              ['btc', 'Will', 'sharing', 'prediction', 'within', 'next', '24hours']  \n",
       "92                                                                                  ['Thank', 'offering', 'discount']  \n",
       "93   ['Prices', 'update', 'USD', 'Last', 'hour', 'BTC', '34086', '+0.46', 'ETH', '2295.12', '+1.17', 'BNB', '311.54']  \n",
       "94  ['Prices', 'update', 'EUR', 'Last', 'hour', 'BTC', '28811.5', '+0.48', 'ETH', '1938.05', '+1.02', 'BNB', '263.3']  \n",
       "95                                 ['Last', 'hour', 'minute', 'based', 'core', '0.14', '0.14', '0.18', '0.17', '0.1']  \n",
       "\n",
       "[96 rows x 9 columns]"
      ]
     },
     "execution_count": 18,
     "metadata": {},
     "output_type": "execute_result"
    }
   ],
   "source": [
    "df_pols"
   ]
  },
  {
   "cell_type": "code",
   "execution_count": null,
   "metadata": {},
   "outputs": [],
   "source": []
  }
 ],
 "metadata": {
  "colab": {
   "name": "twitter.ipynb",
   "provenance": []
  },
  "kernelspec": {
   "display_name": "Python 3",
   "language": "python",
   "name": "python3"
  },
  "language_info": {
   "codemirror_mode": {
    "name": "ipython",
    "version": 3
   },
   "file_extension": ".py",
   "mimetype": "text/x-python",
   "name": "python",
   "nbconvert_exporter": "python",
   "pygments_lexer": "ipython3",
   "version": "3.8.10"
  }
 },
 "nbformat": 4,
 "nbformat_minor": 4
}
