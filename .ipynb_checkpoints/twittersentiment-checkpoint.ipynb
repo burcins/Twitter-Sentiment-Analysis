{
 "cells": [
  {
   "cell_type": "markdown",
   "metadata": {},
   "source": [
    "In this notebook, my aim is to get most recent bunch of tweets from twitter and clean strings, afterwards I did sentiment analysis on each tweet one by one and assign them some scores to decide positivity/negativity of it. \n",
    "\n",
    "The data below scrabbed at 6th of July in 2021 and top 100 tweets were filtered with only contains BTC hash to give a short example. \n",
    "\n",
    "Note : It is required to sign up with your own credientials as developer account to be able to wrap data through tweepy package. That is why I imported my credientials as a package called 'TwitterKeys' so I can use them to receive data through API.\n"
   ]
  },
  {
   "cell_type": "code",
   "execution_count": 1,
   "metadata": {
    "id": "Rs-E9M-FFBum"
   },
   "outputs": [
    {
     "name": "stderr",
     "output_type": "stream",
     "text": [
      "[nltk_data] Downloading package stopwords to /home/burcin/nltk_data...\n",
      "[nltk_data]   Package stopwords is already up-to-date!\n"
     ]
    },
    {
     "data": {
      "text/plain": [
       "True"
      ]
     },
     "execution_count": 1,
     "metadata": {},
     "output_type": "execute_result"
    }
   ],
   "source": [
    "import tweepy, json, TwitterKeys,csv,re, time                  # Python wrapper around Twitter API\n",
    "import pandas as pd\n",
    "import numpy as np\n",
    "from datetime import date\n",
    "from datetime import datetime\n",
    "import matplotlib.pyplot as plt\n",
    "from textblob import TextBlob as tb\n",
    "from vaderSentiment.vaderSentiment import SentimentIntensityAnalyzer\n",
    "from transformers import pipeline\n",
    "from nltk.tokenize import regexp_tokenize, TweetTokenizer,word_tokenize\n",
    "from nltk.corpus import stopwords\n",
    "import nltk\n",
    "nltk.download('stopwords')"
   ]
  },
  {
   "cell_type": "code",
   "execution_count": 2,
   "metadata": {},
   "outputs": [
    {
     "name": "stdout",
     "output_type": "stream",
     "text": [
      "Authentication OK\n"
     ]
    }
   ],
   "source": [
    "# Authenticate to Twitter\n",
    "auth = tweepy.OAuthHandler(TwitterKeys.API_TOKEN, TwitterKeys.API_KEY)\n",
    "\n",
    "auth.set_access_token(TwitterKeys.ACCESS_TOKEN, TwitterKeys.ACCESS_KEY)\n",
    "\n",
    "api = tweepy.API(auth)\n",
    "\n",
    "try:\n",
    "    api.verify_credentials()\n",
    "    print(\"Authentication OK\")\n",
    "except:\n",
    "    print(\"Error during authentication\")"
   ]
  },
  {
   "cell_type": "markdown",
   "metadata": {},
   "source": [
    "After authentication, I wrapped data through twitter api, it is optional to set a beginning date to get past tweets, however there are some drawbacks of that option. Firstly you cannot set a time together with date and more importantly, it is allowed to receive tweets at most 7 days before current date. \n",
    "\n",
    "Then I saved tweets as a data frame to process.."
   ]
  },
  {
   "cell_type": "code",
   "execution_count": 4,
   "metadata": {
    "id": "-ynTYkc7CGat"
   },
   "outputs": [],
   "source": [
    "search_words = \"#BTC\"\n"
   ]
  },
  {
   "cell_type": "code",
   "execution_count": 5,
   "metadata": {
    "colab": {
     "base_uri": "https://localhost:8080/",
     "height": 35
    },
    "id": "1uwrKWI4Czr5",
    "outputId": "f87b91a0-433f-4f64-801d-c57b28057423"
   },
   "outputs": [
    {
     "data": {
      "text/plain": [
       "'#BTC -filter:retweets'"
      ]
     },
     "execution_count": 5,
     "metadata": {},
     "output_type": "execute_result"
    }
   ],
   "source": [
    "new_search = search_words + \" -filter:retweets\" # Filtered retweets\n",
    "new_search"
   ]
  },
  {
   "cell_type": "code",
   "execution_count": 30,
   "metadata": {
    "colab": {
     "base_uri": "https://localhost:8080/",
     "height": 824
    },
    "id": "Wro4Xq3fC3hC",
    "outputId": "128ff4b4-09d7-44f5-a777-75b3d17b545f"
   },
   "outputs": [],
   "source": [
    "tweets = tweepy.Cursor(api.search,\n",
    "                       q=new_search,\n",
    "                       lang=\"en\"\n",
    "                       #since=date_since\n",
    "                      ).items(100)\n",
    "\n",
    "df = pd.DataFrame(data = [[tweet.user.screen_name, tweet.user.location,tweet.created_at,tweet.text] for tweet in tweets],columns=['user', \"location\",\"tweet_date\",\"tweet_text\"])"
   ]
  },
  {
   "cell_type": "code",
   "execution_count": 31,
   "metadata": {},
   "outputs": [
    {
     "data": {
      "text/plain": [
       "(100, 4)"
      ]
     },
     "execution_count": 31,
     "metadata": {},
     "output_type": "execute_result"
    }
   ],
   "source": [
    "df.shape"
   ]
  },
  {
   "cell_type": "code",
   "execution_count": 32,
   "metadata": {},
   "outputs": [
    {
     "data": {
      "text/html": [
       "<div>\n",
       "<style scoped>\n",
       "    .dataframe tbody tr th:only-of-type {\n",
       "        vertical-align: middle;\n",
       "    }\n",
       "\n",
       "    .dataframe tbody tr th {\n",
       "        vertical-align: top;\n",
       "    }\n",
       "\n",
       "    .dataframe thead th {\n",
       "        text-align: right;\n",
       "    }\n",
       "</style>\n",
       "<table border=\"1\" class=\"dataframe\">\n",
       "  <thead>\n",
       "    <tr style=\"text-align: right;\">\n",
       "      <th></th>\n",
       "      <th>user</th>\n",
       "      <th>location</th>\n",
       "      <th>tweet_date</th>\n",
       "      <th>tweet_text</th>\n",
       "    </tr>\n",
       "  </thead>\n",
       "  <tbody>\n",
       "    <tr>\n",
       "      <th>0</th>\n",
       "      <td>nowonbitcoin</td>\n",
       "      <td>London, England 🇬🇧</td>\n",
       "      <td>2021-07-06 09:25:36</td>\n",
       "      <td>DOGE and DeFi Avoided by Australian Crypto Fund with 119% of YTD Returns in 2021  \\n\\n#btc #bitcoin #cryptocurrency… https://t.co/4XXBZuJRqM</td>\n",
       "    </tr>\n",
       "    <tr>\n",
       "      <th>1</th>\n",
       "      <td>AmegaFX</td>\n",
       "      <td></td>\n",
       "      <td>2021-07-06 09:25:30</td>\n",
       "      <td>❇️Cryptocurrencies Now #BTC #LTC #ETH #DOGE #ADA https://t.co/wBZciKPFQh</td>\n",
       "    </tr>\n",
       "    <tr>\n",
       "      <th>2</th>\n",
       "      <td>hana_x007</td>\n",
       "      <td></td>\n",
       "      <td>2021-07-06 09:25:21</td>\n",
       "      <td>I'm excited about this one! Prepare your bags #NFTCommunity! 💵\\n\\nLet's make money on $HOD lads, @SecretsOfCrypto&amp;amp;… https://t.co/d3gFp99n67</td>\n",
       "    </tr>\n",
       "    <tr>\n",
       "      <th>3</th>\n",
       "      <td>Crypto_trace</td>\n",
       "      <td></td>\n",
       "      <td>2021-07-06 09:25:17</td>\n",
       "      <td>All waiting for @elonmusk to give the green light.. Tesla accepting #btc https://t.co/5fkWoJhIQO</td>\n",
       "    </tr>\n",
       "    <tr>\n",
       "      <th>4</th>\n",
       "      <td>Raaaj_Financial</td>\n",
       "      <td>New York, NY</td>\n",
       "      <td>2021-07-06 09:25:02</td>\n",
       "      <td>2,873 Satoshis now equal $1 Dollar (1 #BTC = 100,000,000 Satoshis) \\nExplore the full chart @… https://t.co/gMw0kQw2R9</td>\n",
       "    </tr>\n",
       "  </tbody>\n",
       "</table>\n",
       "</div>"
      ],
      "text/plain": [
       "              user            location          tweet_date  \\\n",
       "0     nowonbitcoin  London, England 🇬🇧 2021-07-06 09:25:36   \n",
       "1          AmegaFX                     2021-07-06 09:25:30   \n",
       "2        hana_x007                     2021-07-06 09:25:21   \n",
       "3     Crypto_trace                     2021-07-06 09:25:17   \n",
       "4  Raaaj_Financial        New York, NY 2021-07-06 09:25:02   \n",
       "\n",
       "                                                                                                                                        tweet_text  \n",
       "0     DOGE and DeFi Avoided by Australian Crypto Fund with 119% of YTD Returns in 2021  \\n\\n#btc #bitcoin #cryptocurrency… https://t.co/4XXBZuJRqM  \n",
       "1                                                                         ❇️Cryptocurrencies Now #BTC #LTC #ETH #DOGE #ADA https://t.co/wBZciKPFQh  \n",
       "2  I'm excited about this one! Prepare your bags #NFTCommunity! 💵\\n\\nLet's make money on $HOD lads, @SecretsOfCrypto&amp;… https://t.co/d3gFp99n67  \n",
       "3                                                 All waiting for @elonmusk to give the green light.. Tesla accepting #btc https://t.co/5fkWoJhIQO  \n",
       "4                           2,873 Satoshis now equal $1 Dollar (1 #BTC = 100,000,000 Satoshis) \\nExplore the full chart @… https://t.co/gMw0kQw2R9  "
      ]
     },
     "execution_count": 32,
     "metadata": {},
     "output_type": "execute_result"
    }
   ],
   "source": [
    "df.head()"
   ]
  },
  {
   "cell_type": "code",
   "execution_count": 34,
   "metadata": {},
   "outputs": [
    {
     "name": "stdout",
     "output_type": "stream",
     "text": [
      "0                              [https://t.co/4XXBZuJRqM]\n",
      "1                              [https://t.co/wBZciKPFQh]\n",
      "2                              [https://t.co/d3gFp99n67]\n",
      "3                              [https://t.co/5fkWoJhIQO]\n",
      "4                              [https://t.co/gMw0kQw2R9]\n",
      "                             ...                        \n",
      "95                                                    []\n",
      "96                             [https://t.co/mNN35cimL1]\n",
      "97                             [https://t.co/rDrHrQKeSs]\n",
      "98    [https://t.co/La5Cc7UYpP, https://t.co/k31lx3aKEy]\n",
      "99                             [https://t.co/xFhaM3TqX5]\n",
      "Name: tweet_text, Length: 100, dtype: object\n"
     ]
    }
   ],
   "source": [
    "pd.options.display.max_colwidth = 2000\n",
    "# Wrote a pattern that matches with all links (urls) \n",
    "pattern = r'http\\S+'\n",
    "\n",
    "# Use the pattern on the last tweet in the tweets list\n",
    "print(df.tweet_text.apply(lambda x:  regexp_tokenize(x, pattern=pattern))) \n",
    "#print(df.tweet_text.apply(lambda x: re.search(\"(?P<url>https?://[^\\s]+)\", x).group(\"url\")))\n"
   ]
  },
  {
   "cell_type": "markdown",
   "metadata": {},
   "source": [
    "Now I am going to drop urls from tweets as well as dropped tweets with same contents and generated a dictionary to set tweet texts as keys..\n",
    "\n",
    "After that, I dropped english stopwords, hashtags and mentions too for more clean texts. "
   ]
  },
  {
   "cell_type": "code",
   "execution_count": 329,
   "metadata": {},
   "outputs": [],
   "source": [
    "tknzr = TweetTokenizer()\n",
    "tweet_dict = {}\n",
    "\n",
    "\n",
    "\n",
    "\n",
    "for i in range(0,len(df)):\n",
    "    tweettext = tknzr.tokenize(re.sub(r'http\\S+', \"\",df.tweet_text[i])) # dropped urls \n",
    "    tweettext = [ t for t in tweettext if t not in stopwords.words('english') and len(t)> 1 and t[0] != '#' and t[0] != '@'] # remove hastags, mentions and stopwords\n",
    "    if tweet_dict.get(str(tweettext)) != 1:\n",
    "        tweet_dict[str(tweettext)]=1\n",
    "    #tweets = [word_tokenize(re.sub(r\"\"\"[\"?,$!:#@/[///\\]\\)\\.?\\+\\-]|'(?!(?<! ')[ts])\"\"\", \"\",key)) for key in tweet_dict.keys()]\n",
    "    tweets = [key for key in tweet_dict.keys() if [k.isalpha() for k in key]]\n",
    "    \n"
   ]
  },
  {
   "cell_type": "code",
   "execution_count": 340,
   "metadata": {},
   "outputs": [
    {
     "data": {
      "text/plain": [
       "[\"['DOGE', 'DeFi', 'Avoided', 'Australian', 'Crypto', 'Fund', '119', 'YTD', 'Returns', '2021']\",\n",
       " \"['️Cryptocurrencies', 'Now']\",\n",
       " '[\"I\\'m\", \\'excited\\', \\'one\\', \\'Prepare\\', \\'bags\\', \"Let\\'s\", \\'make\\', \\'money\\', \\'HOD\\', \\'lads\\']',\n",
       " \"['All', 'waiting', 'give', 'green', 'light', '..', 'Tesla', 'accepting']\",\n",
       " \"['2,873', 'Satoshis', 'equal', 'Dollar', '100,000', '000', 'Satoshis', 'Explore', 'full', 'chart']\",\n",
       " \"['Auto', 'Follower']\",\n",
       " \"['Once', 'bears', 'deliver', 'massive', 'counter', 'punch']\",\n",
       " \"['BULLWHALE', 'LONGED', '4,183', '469', 'worth', '34,109', 'Futures']\",\n",
       " \"['MORE', 'FUD', 'BTC']\",\n",
       " \"['Do', 'experience', 'using', 'crypto', 'currency', 'Follow', 'us', 'Twitter', 'Facebook', 'airdrops', 'futu']\",\n",
       " \"['Thanks', 'giving', 'us', 'great', 'opportunity', 'supporting', 'always', 'success', 'development']\",\n",
       " '[\\'earned\\', \\'lot\\', \\'Mini\\', \\'doge\\', \"It\\'s\", \\'Give\\', \\'away\\', \\'time\\', \\'100\\', \\'lucky\\', \\'person\\', \\'Follow\\', \\'Retweet\\', \\'like\\']',\n",
       " \"['So', '...', 'Just', 'say', 'Congratulate', 'red']\",\n",
       " \"['FUCK', 'BUY', 'BTC']\",\n",
       " \"['LAVA', 'token', 'worth', 'holding', 'long-term', 'maximize', 'revenue', '0x2F0D00F3eE7DeB7a16eAE5826665']\",\n",
       " \"['Fuck', 'fud', 'news', 'Buy']\",\n",
       " \"['Excellent', 'Event', 'Thanks', 'For', 'The', 'Opportunity']\",\n",
       " \"['It', 'interesting', 'project', 'support', 'project', 'Project', 'sucess']\",\n",
       " \"['shot', 'time', 'set', 'ltc', 'matic', 'eth', 'sxp', 'ada', 'xrp']\",\n",
       " \"['Congratulation', 'team', 'buliding', 'biggest', 'project', 'bigger', 'someday', 'awsome', 'smar']\",\n",
       " \"['This', 'Project', 'Is', 'Extraordinary', 'Am', 'Sure', 'This', 'Project', 'Will', 'Be', 'Success', 'In', 'The', 'Future', 'With', 'Team', 'And']\",\n",
       " \"['appreciate', 'project', 'promising', 'future', 'hope', 'project', 'go', 'well', 'planned']\",\n",
       " \"['488.1', '866', '16,929', '108', 'transferred', 'Unknown', 'Wallet', 'Unknown', 'Wallet', 'TX']\",\n",
       " \"['let', 'us', 'know', 'feel', 'locked', ':)', 'dear', 'Gov']\",\n",
       " \"['Good', 'project', 'BSC', '0xF8CE0C37d97602fE490A287924C7c0c97C1ce8b9']\",\n",
       " \"['Thanks', 'giving', 'us', 'great', 'opportunity', 'supporting', 'always', 'success', 'development', 'team']\",\n",
       " \"['PBOC', 'WARNS', 'OF', 'FINANCIAL', 'INSTITUTIONS', 'OVER', 'VIRTUAL', 'CURRENCY', 'PBOC', 'BEIJING', 'FIN', 'REGULATOR', 'ISSUE', 'WARNING', 'ON']\",\n",
       " \"['Thanks', 'giving', 'opportunity', 'participate', 'awesome', 'project']\",\n",
       " \"['This', 'chart', 'literally', 'screams', 'Market', 'manipulation', 'Don', 'tricked', 'All', 'means', 'accumulation', 'phase']\",\n",
       " '[\"Can\\'t\", \\'Wait\\', \\'Other\\', \\'Wallet\\', \\'Connect\\', \\'like\\', \\'Metamask\\', \\'TrustWallet\\', \\'Binance\\', \\'Chain\\', \\'Wallet\\', \\'Co\\']',\n",
       " \"['THIS', 'CRASH', 'IS', 'FAR', 'FROM', 'OVER', 'Powered', 'Charting', 'Proves', 'It']\",\n",
       " '[\"Don\\'t\", \\'miss\\', \\'Your\\', \\'chance\\', \\'earn\\', \\'profit\\', \\'great\\', \\'project\\', \\'believe\\', \\'You\\', \\'succeed\\', \\'You\\', \\'turn\\', \\'wor\\']',\n",
       " \"['CoinWind', 'Value', 'Share', '5,000', 'COW', 'Referral', '60', 'stakes', '20', 'stakes', 'invite', 'Block', 'Chain', 'HECO', 'Distrib']\",\n",
       " \"['JUST', 'REALIZE', 'THAT', 'INSANE']\",\n",
       " \"['Lol', 'Who', 'cares', 'China']\",\n",
       " \"['WATCH', 'SEC', 'DOUBLES', 'DOWN', 'Against', 'Ripple', 'INSISTING', 'The', 'Court', 'Give', 'In', 'To', 'Demands', 'HERE']\",\n",
       " \"['btc', 'fell', 'sky', '..', 'hahah', 'drew', 'rising', 'wedge', '5m', 'chart', 'made', 'cup', 'tea', 'Came', 'back']\",\n",
       " \"['Thanks', 'amazing', 'token', 'finder', 'made', '2000', 'last', '7month', 'help']\",\n",
       " \"['going', '42-59', 'btc']\",\n",
       " \"['Only', 'FUD', 'markets', 'tanked', 'need', 'time', 'mature', 'enough']\",\n",
       " \"['Look', 'another', 'China', 'FUD', 'When', 'fuckers', 'learn', 'burden', 'new', 'tech']\",\n",
       " \"['Axie', 'Infinity', 'Ethereum', 'based', 'game', 'one', 'biggest', 'successes', 'play-to-earn', 'model', 'Featuring', 'NFT']\",\n",
       " '[\\'Potential\\', \\'trade\\', \\'signal\\', \\'598\\', \\'Trade\\', \"kucoincom\\'s\", \\'Tweet\\', \\'Lazy\\', \\'Trade\\', \\'one\\', \\'button\\']',\n",
       " \"['hopefully', 'project', 'successful', 'grow', 'strong']\",\n",
       " '[\"It\\'s\", \\'So\\', \\'Math\\', \\'figured\\', \\'buy\\', \\'8390\\', \\'Tacos\\', \\'today\\', \\'London\\']',\n",
       " \"['Buying', 'HOD', 'ETH', 'How', 'What', 'say']\",\n",
       " \"['Derivs', 'Sheet', 'Tweet', 'every', '15', 'min', 'CME', 'Delayed', '10', 'min', 'GS', 'Delayed', '15', 'min', 'OI', 'SHARES', 'OUT']\",\n",
       " \"['brings', 'hope', 'freedom', 'best', 'asset', 'human', 'history']\",\n",
       " \"['SoftBank', 'Invests', '200', 'Million', 'In', 'Latin', 'American', 'Bitcoin', 'Exchange']\",\n",
       " \"['LAVA', 'token', 'worth', 'holding', 'long-term', 'maximize', 'revenue', '0x71196275AeC53D04BFe288c7572c']\",\n",
       " \"['Buy', 'BTC', 'With', 'Your', 'Credit', 'Card', 'Fast', 'Crypto', 'Exchange']\",\n",
       " \"['FYI', 'find', 'many', 'markets', 'gems', 'Exchange', 'Welcome', 'trade']\",\n",
       " \"['Samsung', 'new', 'Galaxy', 'S21', 'deal', 'gives', '500', 'instant', 'savings']\",\n",
       " \"['Told', 'stay', '...', 'stay']\",\n",
       " \"['Awesome', 'news', 'Join', 'new', 'Be', 'early', 'Mine', 'btc', 'HBIT', 'smartphone', 'lapt']\",\n",
       " \"['Good', 'morning', 'The', 'DLT', 'properties', 'unique', 'build', 'world', 'totally', 'decentralized', 'DLT', 'present']\",\n",
       " \"['BTC', 'seeing', 'sustained', 'chatter', '4chan', 'last', 'days', 'Via']\",\n",
       " \"['Great', 'smart', 'opportunity', 'everyone', 'look', 'forward', 'growth', 'success']\",\n",
       " \"['project', 'good', 'projector', 'lot', 'attractions', 'hopefully', 'project']\",\n",
       " \"['Keep', 'eye', 'BTC', 'price', 'We', 'may', 'see', 'break', 'price', 'got', 'rejected', '0.618', 'reverse', 'fib', 'orang']\",\n",
       " '[\"I\\'m\", \\'selling\\', \\'account\\', \\'28k\\', \\'followers\\', \\'Anyone\\', \\'wants\\', \\'receive\\', \\'send\\', \\'message\\']',\n",
       " \"['Went', 'bathroom', 'dumped', '1,000']\",\n",
       " \"['You', 'consider', 'securing', 'bag', 'precious', 'ZNN', 'research', 'course', 'Dual']\",\n",
       " \"['Token', 'burn']\",\n",
       " \"['Trending', 'Enter', 'Short', 'Close', 'Long', 'DOGEUSD', '0.2397844349', '808354']\",\n",
       " \"['saved', 'enough', 'wish', 'double', 'instantly', 'small', 'risk']\",\n",
       " \"['new', 'Galaxy', 'S21', 'deal', 'gives', '500', 'instant', 'savings']\",\n",
       " \"['Bitcoin', 'baton', 'holder', 'cryptocurrency', 'market', 'long', 'time', 'position', 'ultimate', 'crypt']\",\n",
       " \"['Please', 'need', 'contact', 'help', 'catch', 'scammer']\",\n",
       " '[\"can\\'t\", \\'look\\', \\'market\\', \\'much\\', \"I\\'m\", \\'busy\\', \\'let\\', \\'make\\', \\'small\\', \\'update\\', \\'followers\\', \\'BTC\\', \\'tryin\\']',\n",
       " \"['You', 'consider', 'securing', 'bag', 'precious', 'ZNN', 'After', 'researc']\",\n",
       " \"['BTC', 'USDT', '4h', 'BTC', 'ranging', 'days', '33k', '35.5', 'BTC', 'already', 'rejected', 'four', 'times', 'around', '35']\",\n",
       " \"['Thank', 'You', 'golden', 'opportunity', 'Investing', 'time-tested', 'asset', 'always', 'bear', 'fruit', 'Therefore']\",\n",
       " \"['hope', 'project', 'Will', 'great', 'project', 'future', 'Thank', 'much']\",\n",
       " \"['hitting', '875K']\",\n",
       " \"['balance', 'OTC', 'desks', 'continues', 'decline', 'bigger', 'players', 'continue', 'accumulate', 'lower', 'levels']\",\n",
       " \"['ℹ️', 'We', 'remind', 'find', 'many', 'Exchange', 'Welcome', 'trade']\",\n",
       " \"['You', 'consider', 'securing', 'bag', 'precious', 'ZNN', 'After', 'research', 'course', 'Dual']\",\n",
       " \"['believe', 'faithful', 'project.The', 'projector', 'lot', 'attractions', 'hopefully', 'project']\",\n",
       " \"['WARNS', 'OF', 'FINANCIAL', 'INSTITUTIONS', 'OVER', 'VIRTUAL', 'CURRENCY', 'BBG']\",\n",
       " \"['Right', 'time']\",\n",
       " '[\\'Potential\\', \\'trade\\', \\'signal\\', \\'597\\', \\'Lazy\\', \"Trade\\'s\", \\'signal\\', \\'trading\\', \\'bot\\', \\'identified\\', \"rektcapital\\'s\", \\'Tweet\\', \\'Use\\']',\n",
       " \"['Cant', 'wait', 'exit', '30k', 'range', 'BTC']\",\n",
       " \"['You', 'consider', 'securing', 'bag', 'precious', 'ZNN', 'After', 'research', 'course', 'Dual', 'le']\",\n",
       " \"['UNI', 'UNI', 'rebounded', '34', 'inside', 'black', 'range', 'since', 'discussed', 'previous']\",\n",
       " \"['trade', 'price', '24777', 'time', '07/06', '21', '10:18', '08']\",\n",
       " \"['Bullish']\",\n",
       " \"['BTC', 'Super', 'big', 'chance', 'billion', 'Price', '3982439', '2021/07', '06', '18:15']\",\n",
       " \"['Buyback', 'burn', 'BTC']\",\n",
       " \"['BTC', 'big', 'chance', 'million', 'Price', '3996924', '2021/07', '06', '18:13']\",\n",
       " \"['DeFi', 'Summer', 'Stake', 'Predict', 'Grow', 'TotemFi', 'Join', 'already', 'thriving', 'TOTM', 'community', 'innova']\",\n",
       " \"['BTC', 'big', 'chance', 'billion', 'Price', '4020750', '2021/07', '06', '18:12']\",\n",
       " \"['Let', 'begin', 'Years', 'hard', 'dev', 'work', 'community', 'trust', 'support', 'finally']\",\n",
       " '[\\'Biggest\\', \\'exchange\\', \\'outflow\\', \"Let\\'s\", \\'see\\', \\'market\\', \\'behaves\\', \\'coming\\', \\'days\\']',\n",
       " \"['As', 'told', 'No', 'volume', 'grayscale', 'unlocking', 'We', 'DUMP']\",\n",
       " \"['The', 'Shibaswap', 'open', 'use', 'swaps', 'anymore', 'Only', 'shibaswap']\",\n",
       " \"['We', 'strong', 'community', 'new', 'trend', 'WELL', 'COME', '10k', 'member', 'Telegram']\"]"
      ]
     },
     "execution_count": 340,
     "metadata": {},
     "output_type": "execute_result"
    }
   ],
   "source": [
    "tweets"
   ]
  },
  {
   "cell_type": "code",
   "execution_count": 331,
   "metadata": {},
   "outputs": [
    {
     "data": {
      "text/plain": [
       "'DOGE and DeFi Avoided by Australian Crypto Fund with 119% of YTD Returns in 2021  \\n\\n#btc #bitcoin #cryptocurrency… https://t.co/4XXBZuJRqM'"
      ]
     },
     "execution_count": 331,
     "metadata": {},
     "output_type": "execute_result"
    }
   ],
   "source": [
    "df.tweet_text[0] # raw version"
   ]
  },
  {
   "cell_type": "code",
   "execution_count": 332,
   "metadata": {},
   "outputs": [
    {
     "data": {
      "text/plain": [
       "\"['DOGE', 'DeFi', 'Avoided', 'Australian', 'Crypto', 'Fund', '119', 'YTD', 'Returns', '2021']\""
      ]
     },
     "execution_count": 332,
     "metadata": {},
     "output_type": "execute_result"
    }
   ],
   "source": [
    "tweets[0] # cleaned version"
   ]
  },
  {
   "cell_type": "code",
   "execution_count": 33,
   "metadata": {},
   "outputs": [],
   "source": [
    "# In this cell I transfered ready to use trained BERT model provided from Hugging Face \n",
    "\n",
    "classifier = pipeline(\"sentiment-analysis\")\n"
   ]
  },
  {
   "cell_type": "code",
   "execution_count": 333,
   "metadata": {},
   "outputs": [
    {
     "data": {
      "text/plain": [
       "['NEGATIVE']"
      ]
     },
     "execution_count": 333,
     "metadata": {},
     "output_type": "execute_result"
    }
   ],
   "source": [
    "[item[\"label\"] for item in classifier(tweets[0])]"
   ]
  },
  {
   "cell_type": "code",
   "execution_count": 335,
   "metadata": {},
   "outputs": [
    {
     "data": {
      "text/plain": [
       "{'neg': 0.211, 'neu': 0.789, 'pos': 0.0, 'compound': -0.34}"
      ]
     },
     "execution_count": 335,
     "metadata": {},
     "output_type": "execute_result"
    }
   ],
   "source": [
    "# This fuction provided from vadersentiment library to score tweets \n",
    "analyzer = SentimentIntensityAnalyzer()\n",
    "analyzer.polarity_scores(tweets[0])"
   ]
  },
  {
   "cell_type": "markdown",
   "metadata": {},
   "source": [
    "Last but not least I created a data frame which includes scores provided from textblob, BERT and vadersentiment libraries. \n",
    "\n",
    "With this clean data frame it can be evaluated by comparing results. "
   ]
  },
  {
   "cell_type": "code",
   "execution_count": 336,
   "metadata": {},
   "outputs": [],
   "source": [
    "# values from textblob\n",
    "pol = []\n",
    "sub = []\n",
    "# values from transformers\n",
    "label = []\n",
    "score = []\n",
    "# values from vader sentiment\n",
    "neg_val = []\n",
    "pos_val = []\n",
    "neu_val = []\n",
    "comp_val = []\n",
    "\n",
    "for j in tweets:\n",
    "    tx = tb(j)\n",
    "    pol.append(tx.sentiment.polarity)\n",
    "    sub.append(tx.sentiment.subjectivity)\n",
    "    label.append([item[\"label\"] for item in classifier(j)])\n",
    "    score.append([item[\"score\"] for item in classifier(j)] )  \n",
    "    \n",
    "    neg_val.append(analyzer.polarity_scores(j)['neg'])\n",
    "    pos_val.append(analyzer.polarity_scores(j)['pos'])\n",
    "    neu_val.append(analyzer.polarity_scores(j)['neu'])\n",
    "    comp_val.append(analyzer.polarity_scores(j)['compound'])\n"
   ]
  },
  {
   "cell_type": "code",
   "execution_count": 337,
   "metadata": {},
   "outputs": [],
   "source": [
    "df_pols = pd.DataFrame({\"polarity\":pol,\"subjectivity\":sub, 'label' : label, 'score': score, 'neg_val': neg_val, 'pos_val': pos_val, 'neu_val' : neu_val,'comp_val': comp_val, 'text':tweets})\n"
   ]
  },
  {
   "cell_type": "code",
   "execution_count": 338,
   "metadata": {},
   "outputs": [
    {
     "data": {
      "text/html": [
       "<div>\n",
       "<style scoped>\n",
       "    .dataframe tbody tr th:only-of-type {\n",
       "        vertical-align: middle;\n",
       "    }\n",
       "\n",
       "    .dataframe tbody tr th {\n",
       "        vertical-align: top;\n",
       "    }\n",
       "\n",
       "    .dataframe thead th {\n",
       "        text-align: right;\n",
       "    }\n",
       "</style>\n",
       "<table border=\"1\" class=\"dataframe\">\n",
       "  <thead>\n",
       "    <tr style=\"text-align: right;\">\n",
       "      <th></th>\n",
       "      <th>polarity</th>\n",
       "      <th>subjectivity</th>\n",
       "      <th>label</th>\n",
       "      <th>score</th>\n",
       "      <th>neg_val</th>\n",
       "      <th>pos_val</th>\n",
       "      <th>neu_val</th>\n",
       "      <th>comp_val</th>\n",
       "      <th>text</th>\n",
       "    </tr>\n",
       "  </thead>\n",
       "  <tbody>\n",
       "    <tr>\n",
       "      <th>0</th>\n",
       "      <td>0.000000</td>\n",
       "      <td>0.000000</td>\n",
       "      <td>[NEGATIVE]</td>\n",
       "      <td>[0.9941918849945068]</td>\n",
       "      <td>0.211</td>\n",
       "      <td>0.000</td>\n",
       "      <td>0.789</td>\n",
       "      <td>-0.3400</td>\n",
       "      <td>['DOGE', 'DeFi', 'Avoided', 'Australian', 'Crypto', 'Fund', '119', 'YTD', 'Returns', '2021']</td>\n",
       "    </tr>\n",
       "    <tr>\n",
       "      <th>1</th>\n",
       "      <td>0.000000</td>\n",
       "      <td>0.000000</td>\n",
       "      <td>[NEGATIVE]</td>\n",
       "      <td>[0.9730685949325562]</td>\n",
       "      <td>0.000</td>\n",
       "      <td>0.000</td>\n",
       "      <td>1.000</td>\n",
       "      <td>0.0000</td>\n",
       "      <td>['️Cryptocurrencies', 'Now']</td>\n",
       "    </tr>\n",
       "    <tr>\n",
       "      <th>2</th>\n",
       "      <td>0.375000</td>\n",
       "      <td>0.750000</td>\n",
       "      <td>[POSITIVE]</td>\n",
       "      <td>[0.861072838306427]</td>\n",
       "      <td>0.000</td>\n",
       "      <td>0.211</td>\n",
       "      <td>0.789</td>\n",
       "      <td>0.3400</td>\n",
       "      <td>[\"I'm\", 'excited', 'one', 'Prepare', 'bags', \"Let's\", 'make', 'money', 'HOD', 'lads']</td>\n",
       "    </tr>\n",
       "    <tr>\n",
       "      <th>3</th>\n",
       "      <td>0.100000</td>\n",
       "      <td>0.500000</td>\n",
       "      <td>[POSITIVE]</td>\n",
       "      <td>[0.9365736842155457]</td>\n",
       "      <td>0.000</td>\n",
       "      <td>0.271</td>\n",
       "      <td>0.729</td>\n",
       "      <td>0.3818</td>\n",
       "      <td>['All', 'waiting', 'give', 'green', 'light', '..', 'Tesla', 'accepting']</td>\n",
       "    </tr>\n",
       "    <tr>\n",
       "      <th>4</th>\n",
       "      <td>0.175000</td>\n",
       "      <td>0.400000</td>\n",
       "      <td>[POSITIVE]</td>\n",
       "      <td>[0.9320528507232666]</td>\n",
       "      <td>0.000</td>\n",
       "      <td>0.000</td>\n",
       "      <td>1.000</td>\n",
       "      <td>0.0000</td>\n",
       "      <td>['2,873', 'Satoshis', 'equal', 'Dollar', '100,000', '000', 'Satoshis', 'Explore', 'full', 'chart']</td>\n",
       "    </tr>\n",
       "    <tr>\n",
       "      <th>...</th>\n",
       "      <td>...</td>\n",
       "      <td>...</td>\n",
       "      <td>...</td>\n",
       "      <td>...</td>\n",
       "      <td>...</td>\n",
       "      <td>...</td>\n",
       "      <td>...</td>\n",
       "      <td>...</td>\n",
       "      <td>...</td>\n",
       "    </tr>\n",
       "    <tr>\n",
       "      <th>92</th>\n",
       "      <td>-0.145833</td>\n",
       "      <td>0.770833</td>\n",
       "      <td>[POSITIVE]</td>\n",
       "      <td>[0.760202944278717]</td>\n",
       "      <td>0.097</td>\n",
       "      <td>0.417</td>\n",
       "      <td>0.486</td>\n",
       "      <td>0.6808</td>\n",
       "      <td>['Let', 'begin', 'Years', 'hard', 'dev', 'work', 'community', 'trust', 'support', 'finally']</td>\n",
       "    </tr>\n",
       "    <tr>\n",
       "      <th>93</th>\n",
       "      <td>0.000000</td>\n",
       "      <td>0.000000</td>\n",
       "      <td>[NEGATIVE]</td>\n",
       "      <td>[0.952576756477356]</td>\n",
       "      <td>0.000</td>\n",
       "      <td>0.000</td>\n",
       "      <td>1.000</td>\n",
       "      <td>0.0000</td>\n",
       "      <td>['Biggest', 'exchange', 'outflow', \"Let's\", 'see', 'market', 'behaves', 'coming', 'days']</td>\n",
       "    </tr>\n",
       "    <tr>\n",
       "      <th>94</th>\n",
       "      <td>0.000000</td>\n",
       "      <td>0.000000</td>\n",
       "      <td>[NEGATIVE]</td>\n",
       "      <td>[0.9995121955871582]</td>\n",
       "      <td>0.323</td>\n",
       "      <td>0.000</td>\n",
       "      <td>0.677</td>\n",
       "      <td>-0.5160</td>\n",
       "      <td>['As', 'told', 'No', 'volume', 'grayscale', 'unlocking', 'We', 'DUMP']</td>\n",
       "    </tr>\n",
       "    <tr>\n",
       "      <th>95</th>\n",
       "      <td>0.000000</td>\n",
       "      <td>0.750000</td>\n",
       "      <td>[NEGATIVE]</td>\n",
       "      <td>[0.9966623783111572]</td>\n",
       "      <td>0.000</td>\n",
       "      <td>0.000</td>\n",
       "      <td>1.000</td>\n",
       "      <td>0.0000</td>\n",
       "      <td>['The', 'Shibaswap', 'open', 'use', 'swaps', 'anymore', 'Only', 'shibaswap']</td>\n",
       "    </tr>\n",
       "    <tr>\n",
       "      <th>96</th>\n",
       "      <td>0.284848</td>\n",
       "      <td>0.593939</td>\n",
       "      <td>[POSITIVE]</td>\n",
       "      <td>[0.9988938570022583]</td>\n",
       "      <td>0.000</td>\n",
       "      <td>0.434</td>\n",
       "      <td>0.566</td>\n",
       "      <td>0.7297</td>\n",
       "      <td>['We', 'strong', 'community', 'new', 'trend', 'WELL', 'COME', '10k', 'member', 'Telegram']</td>\n",
       "    </tr>\n",
       "  </tbody>\n",
       "</table>\n",
       "<p>97 rows × 9 columns</p>\n",
       "</div>"
      ],
      "text/plain": [
       "    polarity  subjectivity       label                 score  neg_val  \\\n",
       "0   0.000000      0.000000  [NEGATIVE]  [0.9941918849945068]    0.211   \n",
       "1   0.000000      0.000000  [NEGATIVE]  [0.9730685949325562]    0.000   \n",
       "2   0.375000      0.750000  [POSITIVE]   [0.861072838306427]    0.000   \n",
       "3   0.100000      0.500000  [POSITIVE]  [0.9365736842155457]    0.000   \n",
       "4   0.175000      0.400000  [POSITIVE]  [0.9320528507232666]    0.000   \n",
       "..       ...           ...         ...                   ...      ...   \n",
       "92 -0.145833      0.770833  [POSITIVE]   [0.760202944278717]    0.097   \n",
       "93  0.000000      0.000000  [NEGATIVE]   [0.952576756477356]    0.000   \n",
       "94  0.000000      0.000000  [NEGATIVE]  [0.9995121955871582]    0.323   \n",
       "95  0.000000      0.750000  [NEGATIVE]  [0.9966623783111572]    0.000   \n",
       "96  0.284848      0.593939  [POSITIVE]  [0.9988938570022583]    0.000   \n",
       "\n",
       "    pos_val  neu_val  comp_val  \\\n",
       "0     0.000    0.789   -0.3400   \n",
       "1     0.000    1.000    0.0000   \n",
       "2     0.211    0.789    0.3400   \n",
       "3     0.271    0.729    0.3818   \n",
       "4     0.000    1.000    0.0000   \n",
       "..      ...      ...       ...   \n",
       "92    0.417    0.486    0.6808   \n",
       "93    0.000    1.000    0.0000   \n",
       "94    0.000    0.677   -0.5160   \n",
       "95    0.000    1.000    0.0000   \n",
       "96    0.434    0.566    0.7297   \n",
       "\n",
       "                                                                                                  text  \n",
       "0         ['DOGE', 'DeFi', 'Avoided', 'Australian', 'Crypto', 'Fund', '119', 'YTD', 'Returns', '2021']  \n",
       "1                                                                         ['️Cryptocurrencies', 'Now']  \n",
       "2                [\"I'm\", 'excited', 'one', 'Prepare', 'bags', \"Let's\", 'make', 'money', 'HOD', 'lads']  \n",
       "3                             ['All', 'waiting', 'give', 'green', 'light', '..', 'Tesla', 'accepting']  \n",
       "4   ['2,873', 'Satoshis', 'equal', 'Dollar', '100,000', '000', 'Satoshis', 'Explore', 'full', 'chart']  \n",
       "..                                                                                                 ...  \n",
       "92        ['Let', 'begin', 'Years', 'hard', 'dev', 'work', 'community', 'trust', 'support', 'finally']  \n",
       "93           ['Biggest', 'exchange', 'outflow', \"Let's\", 'see', 'market', 'behaves', 'coming', 'days']  \n",
       "94                              ['As', 'told', 'No', 'volume', 'grayscale', 'unlocking', 'We', 'DUMP']  \n",
       "95                        ['The', 'Shibaswap', 'open', 'use', 'swaps', 'anymore', 'Only', 'shibaswap']  \n",
       "96          ['We', 'strong', 'community', 'new', 'trend', 'WELL', 'COME', '10k', 'member', 'Telegram']  \n",
       "\n",
       "[97 rows x 9 columns]"
      ]
     },
     "execution_count": 338,
     "metadata": {},
     "output_type": "execute_result"
    }
   ],
   "source": [
    "df_pols"
   ]
  },
  {
   "cell_type": "code",
   "execution_count": null,
   "metadata": {},
   "outputs": [],
   "source": []
  }
 ],
 "metadata": {
  "colab": {
   "name": "twitter.ipynb",
   "provenance": []
  },
  "kernelspec": {
   "display_name": "Python 3",
   "language": "python",
   "name": "python3"
  },
  "language_info": {
   "codemirror_mode": {
    "name": "ipython",
    "version": 3
   },
   "file_extension": ".py",
   "mimetype": "text/x-python",
   "name": "python",
   "nbconvert_exporter": "python",
   "pygments_lexer": "ipython3",
   "version": "3.8.10"
  }
 },
 "nbformat": 4,
 "nbformat_minor": 4
}
